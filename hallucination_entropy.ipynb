{
 "cells": [
  {
   "cell_type": "markdown",
   "id": "d4efea5f",
   "metadata": {},
   "source": [
    "<h1> Detecting hallucinations in large language models using semantic entropy</h1> "
   ]
  },
  {
   "cell_type": "markdown",
   "id": "b65c5622",
   "metadata": {},
   "source": [
    "<p style=\"font-size: 16px\"> <a href=\"https://www.nature.com/articles/s41586-024-07421-0\">Nature - Published Paper</a>.</p>\n"
   ]
  },
  {
   "cell_type": "code",
   "execution_count": 1,
   "id": "4f0ad126",
   "metadata": {},
   "outputs": [],
   "source": [
    "import numpy as np\n",
    "import ollama\n",
    "from openai import AzureOpenAI\n",
    "from dotenv import load_dotenv\n",
    "import os"
   ]
  },
  {
   "cell_type": "code",
   "execution_count": 2,
   "id": "e1019869",
   "metadata": {},
   "outputs": [
    {
     "data": {
      "text/plain": [
       "True"
      ]
     },
     "execution_count": 2,
     "metadata": {},
     "output_type": "execute_result"
    }
   ],
   "source": [
    "load_dotenv()"
   ]
  },
  {
   "cell_type": "code",
   "execution_count": 3,
   "id": "9b79193a",
   "metadata": {},
   "outputs": [],
   "source": [
    "client = AzureOpenAI(\n",
    "            azure_endpoint=os.getenv(\"BASE\"),\n",
    "            api_version=os.getenv(\"VERSION\"),\n",
    "            api_key=os.getenv(\"KEY\"), \n",
    "            timeout=15.0, \n",
    "            max_retries=2\n",
    "        )\n",
    "\n",
    "def make_oai_call(prompt):\n",
    "    response = client.chat.completions.create(\n",
    "        model= \"gpt-4o\",\n",
    "        temperature=0.0,\n",
    "        max_tokens=2000,\n",
    "        timeout=25.0, \n",
    "        messages=[\n",
    "            {\"role\": \"user\", \"content\": f\"{prompt}\"},\n",
    "        ]\n",
    "    )\n",
    "    return response.choices[0].message.content\n",
    "\n",
    "def create_oai_logprobs(prompt):\n",
    "    response = client.chat.completions.create(\n",
    "        model= \"gpt-4o\",\n",
    "        temperature=0.0,\n",
    "        max_tokens=2000,\n",
    "        logprobs=True, \n",
    "        messages=[\n",
    "            {\"role\": \"user\", \"content\": f\"{prompt}\"},\n",
    "        ]\n",
    "    )\n",
    "    probs = []\n",
    "    content = response.choices[0].message.content\n",
    "    for x in response.choices[0].logprobs.content:\n",
    "        probs.append(x.logprob)\n",
    "    return np.array(probs), content"
   ]
  },
  {
   "cell_type": "code",
   "execution_count": 4,
   "id": "3ca90089",
   "metadata": {},
   "outputs": [],
   "source": [
    "def query_llama3(prompt):\n",
    "    response = ollama.chat(model='llama3', messages=[\n",
    "        {\n",
    "            'role': 'user',\n",
    "            'content': prompt,\n",
    "        },\n",
    "    ])\n",
    "    return response['message']['content']\n",
    "\n",
    "def generate_llama3_answers(prompt):\n",
    "    responses = []\n",
    "    for elem in range(5):\n",
    "        resp = query_llama3(prompt)\n",
    "        responses.append(resp)\n",
    "    return prompt, responses"
   ]
  },
  {
   "cell_type": "code",
   "execution_count": 5,
   "id": "cb68b4f9",
   "metadata": {},
   "outputs": [],
   "source": [
    "def check_implication_llama(text1, text2, question):\n",
    "    prompt = f\"\"\"We are evaluating answers to the question \"{question}\"\n",
    "    Here are two possible answers:\n",
    "    Possible Answer 1: {text1}\n",
    "    Possible Answer 2: {text2}\n",
    "    Does Possible Answer 1 semantically entail Possible Answer 2? Respond with entailment, contradiction, or neutral.\"\"\"\n",
    "\n",
    "    response_text = query_llama3(prompt).lower()  # Ensure query_model is defined to interact with your Llama model\n",
    "    print(\"-----\")\n",
    "    if 'entailment' in response_text:\n",
    "        return 2\n",
    "    elif 'contradiction' in response_text:\n",
    "        return 0\n",
    "    elif 'neutral' in response_text:\n",
    "        return 1\n",
    "    else:\n",
    "        return 1  # Default to neutral if the response is unclear"
   ]
  },
  {
   "cell_type": "markdown",
   "id": "ac5b72ee",
   "metadata": {},
   "source": [
    "<h1> Entailment Estimation with OAI -GPT4o </h1>"
   ]
  },
  {
   "cell_type": "markdown",
   "id": "25d2a916",
   "metadata": {},
   "source": [
    "<p style=\"font-size: 16px\"> Here we assume that we do not have access to logprobs and doing the discrete semantic entropy which the paper says is 'good enough'. In this case we will use LLama-3 as the paper was prepublished 17 July 2023 which predates Gpt4o and LLama-3 which are now a new SOTA.</p>"
   ]
  },
  {
   "cell_type": "code",
   "execution_count": 6,
   "id": "e954c616",
   "metadata": {},
   "outputs": [],
   "source": [
    "def check_implication_gpt_4o(text1, text2, question):\n",
    "    prompt = f\"\"\"We are evaluating answers to the question \"{question}\"\n",
    "    Here are two possible answers:\n",
    "    Possible Answer 1: {text1}\n",
    "    Possible Answer 2: {text2}\n",
    "    Does Possible Answer 1 semantically entail Possible Answer 2? Respond with entailment, contradiction, or neutral.\"\"\"\n",
    "\n",
    "    response_text = make_oai_call(prompt).lower()\n",
    "    if 'entailment' in response_text:\n",
    "        return 2\n",
    "    elif 'contradiction' in response_text:\n",
    "        return 0\n",
    "    elif 'neutral' in response_text:\n",
    "        return 1\n",
    "    else:\n",
    "        return 1  # Default to neutral if the response is unclear\n",
    "\n",
    "def bidirectional_entailment_clustering(sequences, question):\n",
    "    # Initialize the set of meanings with the first sequence\n",
    "    C = [{sequences[0]}]\n",
    "    \n",
    "    # Iterate over each sequence starting from the second one\n",
    "    for m in range(1, len(sequences)):\n",
    "        s_m = sequences[m]\n",
    "        added_to_existing_class = False\n",
    "        \n",
    "        # Compare with existing classes\n",
    "        for c in C:\n",
    "            s_c = next(iter(c))  # Get the first sequence in the class\n",
    "            \n",
    "            # Check bi-directional entailment\n",
    "            left = check_implication_gpt_4o(s_c, s_m, question) # change call here to other model.\n",
    "            right = check_implication_gpt_4o(s_m, s_c, question)\n",
    "            \n",
    "            if left == 2 and right == 2:  # both directions entail\n",
    "                c.add(s_m)\n",
    "                added_to_existing_class = True\n",
    "                break\n",
    "        \n",
    "        if not added_to_existing_class:\n",
    "            # If not added to any existing class, create a new class\n",
    "            C.append({s_m})\n",
    "    \n",
    "    return C\n",
    "\n",
    "\n",
    "# Function to calculate discrete semantic entropy\n",
    "def calculate_discrete_semantic_entropy(clusters):\n",
    "    total_responses = sum(len(cluster) for cluster in clusters)\n",
    "    probabilities = [len(cluster) / total_responses for cluster in clusters]\n",
    "    print(probabilities)\n",
    "    entropy = -np.sum(probabilities * np.log10(probabilities)) ## log 10\n",
    "    return entropy\n",
    "\n",
    "def calculate_semantic_entropy(responses, question):\n",
    "    clusters = bidirectional_entailment_clustering(responses, question)\n",
    "    for clus in clusters:\n",
    "        print(clus)\n",
    "    \n",
    "    # Calculate discrete semantic entropy\n",
    "    entropy = calculate_discrete_semantic_entropy(clusters)\n",
    "    return entropy\n"
   ]
  },
  {
   "cell_type": "code",
   "execution_count": 9,
   "id": "93e1e0d7",
   "metadata": {},
   "outputs": [
    {
     "name": "stdout",
     "output_type": "stream",
     "text": [
      "{'Its Paris', 'Paris.', 'paris.'}\n",
      "{'Rome'}\n",
      "{'New york'}\n",
      "[0.6, 0.2, 0.2]\n",
      "Semantic Entropy: 0.4126972515042213\n"
     ]
    }
   ],
   "source": [
    "# Example usage\n",
    "responses = [\"Paris.\", \"paris.\", \"Its Paris\", \"Rome\", \"New york\"]\n",
    "question = \"Where is the Eiffel Tower?\"\n",
    "\n",
    "semantic_entropy = calculate_semantic_entropy(responses, question)\n",
    "print(f\"Semantic Entropy: {semantic_entropy}\")"
   ]
  },
  {
   "cell_type": "markdown",
   "id": "95d42fb3",
   "metadata": {},
   "source": [
    "<h1>Create sets of questions with GPT-4o + Data .</h1>"
   ]
  },
  {
   "cell_type": "markdown",
   "id": "055cf34b",
   "metadata": {},
   "source": [
    "<p style=\"font-size: 16px\">Content taken from <a href=\"https://www.gov.uk/guidance/new-immigration-system-what-you-need-to-know\">UK Government Immigration Guide</a>.</p>\n"
   ]
  },
  {
   "cell_type": "code",
   "execution_count": 10,
   "id": "90b5d8cc",
   "metadata": {},
   "outputs": [],
   "source": [
    "import requests\n",
    "from bs4 import BeautifulSoup\n",
    "\n",
    "def get_content(url):\n",
    "    response = requests.get(url)\n",
    "    soup = BeautifulSoup(response.text, 'html.parser')\n",
    "    divs = soup.find_all('div', class_='govspeak')\n",
    "    content = \"\"\n",
    "    for div in divs:\n",
    "        content += div.get_text(strip=True)\n",
    "    return content\n",
    "\n",
    "content_prompt = get_content(\"https://www.gov.uk/guidance/new-immigration-system-what-you-need-to-know\")"
   ]
  },
  {
   "cell_type": "code",
   "execution_count": 11,
   "id": "4c4e65d1",
   "metadata": {},
   "outputs": [
    {
     "name": "stdout",
     "output_type": "stream",
     "text": [
      "Here are the factual claims made in the text:\n",
      "\n",
      "1. The page will be updated with the latest information about the new points-based immigration system as it becomes available.\n",
      "2. Free movement with the European Union (EU) ended on 31 December 2020.\n",
      "3. There are new arrangements for EU citizens.\n",
      "4. Irish citizens can continue to freely enter, live, and work in the UK.\n",
      "5. New immigration routes have opened for applications to work, live, and study in the UK.\n",
      "6. You can apply and pay for your visa online.\n",
      "7. When you apply, you’ll be asked to provide your biometric information.\n",
      "8. For most visas, EU, EEA, and Swiss citizens will provide a digital photo of their face using a smartphone app and will not have to give their fingerprints.\n",
      "9. For some routes, EU, EEA, and Swiss citizens will need to go to an overseas visa application centre to have their photo taken.\n",
      "10. Non-EU citizens will continue to submit their fingerprints and a photo at an overseas visa application centre.\n",
      "11. The points-based system includes a route for skilled workers who have a job offer from an approved employer sponsor.\n",
      "12. The job offered to skilled workers will need to be at a required skill level of RQF3 or above (equivalent to A level).\n",
      "13. Skilled workers will need to be able to speak English and be paid the relevant salary threshold by their sponsor.\n",
      "14. The general salary threshold is £26,200 or the going rate for the job, whichever is higher.\n",
      "15. If a skilled worker earns less than £26,200 but no less than £20,960, they may still be able to apply by ‘trading’ points on specific characteristics against their salary.\n",
      "16. There is no general route for employers to recruit at or near the minimum wage.\n",
      "17. Employers who are not already licensed sponsors and want to sponsor migrants through the skilled worker route should apply now.\n",
      "18. The global talent scheme has been opened up to EU, EEA, and Swiss citizens.\n",
      "19. The global talent scheme allows highly-skilled scientists and researchers to come to the UK without a job offer.\n",
      "20. Student visa routes have been opened up to EU, EEA, and Swiss citizens.\n",
      "21. You can apply for a visa to study in the UK if you have been offered a place on a course, can speak, read, write, and understand English, and have enough money to support yourself and pay for your course.\n",
      "22. A new graduate visa is available to international students who have completed a degree in the UK.\n",
      "23. EU, EEA, and Swiss citizens and other non-visa nationals do not require a visa to enter the UK when visiting for up to 6 months.\n",
      "24. All migrants looking to enter the UK for reasons other than visiting (such as work or study) will need to apply for entry clearance in advance.\n",
      "25. You must apply for a Marriage Visitor visa if you want to visit the UK to get married or register a civil partnership.\n",
      "26. EU, EEA, and Swiss citizens who were living in the UK by 31 December 2020 may be able to apply to the free EU Settlement Scheme instead of applying for a visa.\n",
      "27. The deadline to apply to the EU Settlement Scheme was 30 June 2021, but you can still apply if you can show reasonable grounds for your delay in applying.\n",
      "28. You can only apply to the EU Settlement Scheme from outside the UK if you have a valid passport or national identity card with a biometric chip.\n",
      "29. Citizens of Australia, Canada, Japan, New Zealand, the United States of America, Singapore, and South Korea with a biometric chip in their passports can continue to use ePassport gates to pass through the border on arrival.\n",
      "30. EU, EEA, and Swiss citizens can also use ePassport gates (this will be kept under review).\n",
      "31. From 1 October 2021, you will not be able to use an EU, EEA, or Swiss national ID card to enter the UK unless you meet specific conditions.\n",
      "32. In certain cases, you can continue to use your national ID card to enter the UK until at least 31 December 2025.\n",
      "33. EU, EEA, and Swiss citizens should use the online service to view their immigration status and to prove their status to others.\n",
      "34. Guidance is available for employers on carrying out right to work checks on EU citizens and their family members in the UK.\n",
      "35. Non-EU citizens can continue to use a physical document to prove their immigration status.\n",
      "36. Those with a valid, current Biometric Residence Permit, Biometric Residence Card, or status granted under the EU Settlement Scheme can also prove their rights using an online service.\n",
      "37. Guidance is available for employers advising how to carry out a physical document check or online check.\n"
     ]
    }
   ],
   "source": [
    "resp = make_oai_call(f\"\"\"List the factual claims made in the following text\n",
    "              {content_prompt}\n",
    "              \"\"\")\n",
    "print(resp)"
   ]
  },
  {
   "cell_type": "code",
   "execution_count": 12,
   "id": "c2fb0d5e",
   "metadata": {},
   "outputs": [
    {
     "name": "stdout",
     "output_type": "stream",
     "text": [
      "1. When did free movement with the European Union end?\n",
      "   - 31 December 2020.\n",
      "\n",
      "2. Can Irish citizens continue to freely enter, live, and work in the UK?\n",
      "   - Yes.\n",
      "\n",
      "3. Are there new immigration routes available for applications to work, live, and study in the UK?\n",
      "   - Yes.\n",
      "\n",
      "4. How can you apply and pay for your visa?\n",
      "   - Online.\n",
      "\n",
      "5. What biometric information will you be asked to provide when applying for a visa?\n",
      "   - A digital photo of your face using a smartphone app or fingerprints and a photo at an overseas visa application centre.\n",
      "\n",
      "6. Do EU, EEA, and Swiss citizens need to give their fingerprints for most visas?\n",
      "   - No, they will provide a digital photo of their face using a smartphone app.\n",
      "\n",
      "7. What is required for skilled workers under the points-based system?\n",
      "   - A job offer from an approved employer sponsor, required skill level of RQF3 or above, ability to speak English, and relevant salary threshold.\n",
      "\n",
      "8. What is the general salary threshold for skilled workers?\n",
      "   - £26,200 or the going rate for the job, whichever is higher.\n",
      "\n",
      "9. Can skilled workers earning less than £26,200 still apply?\n",
      "   - Yes, if they earn no less than £20,960 and can trade points on specific characteristics against their salary.\n",
      "\n",
      "10. Is there a general route for employers to recruit at or near the minimum wage?\n",
      "    - No.\n",
      "\n",
      "11. Who should apply now if they want to sponsor migrants through the skilled worker route?\n",
      "    - Employers who are not already licensed sponsors.\n",
      "\n",
      "12. What does the global talent scheme allow?\n",
      "    - Highly-skilled scientists and researchers to come to the UK without a job offer.\n",
      "\n",
      "13. What are the requirements to apply for a visa to study in the UK?\n",
      "    - An offer of a place on a course, ability to speak, read, write, and understand English, and enough money to support yourself and pay for your course.\n",
      "\n",
      "14. Who is eligible for the new graduate visa?\n",
      "    - International students who have completed a degree in the UK.\n",
      "\n",
      "15. Do EU, EEA, and Swiss citizens need a visa to visit the UK for up to 6 months?\n",
      "    - No.\n",
      "\n",
      "16. What must all migrants looking to enter the UK for reasons other than visiting do?\n",
      "    - Apply for entry clearance in advance.\n",
      "\n",
      "17. What visa must you apply for if you want to visit the UK to get married or register a civil partnership?\n",
      "    - Marriage Visitor visa.\n",
      "\n",
      "18. Who may be able to apply to the free EU Settlement Scheme instead of applying for a visa?\n",
      "    - EU, EEA, and Swiss citizens who were living in the UK by 31 December 2020.\n",
      "\n",
      "19. What was the deadline to apply to the EU Settlement Scheme?\n",
      "    - 30 June 2021.\n",
      "\n",
      "20. Under what condition can you still apply to the EU Settlement Scheme after the deadline?\n",
      "    - If you can show reasonable grounds for your delay in applying.\n",
      "\n",
      "21. What is required to apply to the EU Settlement Scheme from outside the UK?\n",
      "    - A valid passport or national identity card with a biometric chip.\n",
      "\n",
      "22. Which citizens can continue to use ePassport gates to pass through the border on arrival?\n",
      "    - Citizens of Australia, Canada, Japan, New Zealand, the United States of America, Singapore, and South Korea with a biometric chip in their passports.\n",
      "\n",
      "23. Can EU, EEA, and Swiss citizens use ePassport gates?\n",
      "    - Yes, this will be kept under review.\n",
      "\n",
      "24. From when will you not be able to use an EU, EEA, or Swiss national ID card to enter the UK unless you meet specific conditions?\n",
      "    - From 1 October 2021.\n",
      "\n",
      "25. Until when can you continue to use your national ID card to enter the UK in certain cases?\n",
      "    - Until at least 31 December 2025.\n",
      "\n",
      "26. How should EU, EEA, and Swiss citizens view and prove their immigration status?\n",
      "    - Using the online service.\n",
      "\n",
      "27. What guidance is available for employers regarding right to work checks?\n",
      "    - Guidance on carrying out right to work checks on EU citizens and their family members in the UK.\n",
      "\n",
      "28. How can non-EU citizens prove their immigration status?\n",
      "    - Using a physical document.\n",
      "\n",
      "29. Who can also prove their rights using an online service?\n",
      "    - Those with a valid, current Biometric Residence Permit, Biometric Residence Card, or status granted under the EU Settlement Scheme.\n",
      "\n",
      "30. What guidance is available for employers regarding document checks?\n",
      "    - Guidance on how to carry out a physical document check or online check.\n"
     ]
    }
   ],
   "source": [
    "resp2 = make_oai_call(f\"\"\"Create me some self encapsulating questions with shorts answers given the following content. Do not reference the content in the question itself it needs to be a standalone question that is answerable without the context.\n",
    "              \n",
    "              {resp}\n",
    "              \"\"\")\n",
    "print(resp2)"
   ]
  },
  {
   "cell_type": "code",
   "execution_count": 13,
   "id": "3e917dca",
   "metadata": {},
   "outputs": [],
   "source": [
    "# correect answer - Until at least 31 December 2025.\n",
    "prompt, responses = generate_llama3_answers(\"Until when can you continue to use your national ID card to enter the UK in certain cases?\"+\" Answer with the shortest possible answer\")"
   ]
  },
  {
   "cell_type": "code",
   "execution_count": 14,
   "id": "c669eb1e",
   "metadata": {},
   "outputs": [
    {
     "name": "stdout",
     "output_type": "stream",
     "text": [
      "Question: Until when can you continue to use your national ID card to enter the UK in certain cases?\n",
      "{'September 2024.'}\n",
      "{'You can use a national ID card to enter the UK until December 31, 2025.', 'Until 31 December 2025.'}\n",
      "{'October 31, 2023.'}\n",
      "[0.25, 0.5, 0.25]\n",
      "Semantic Entropy: 0.45154499349597177\n"
     ]
    }
   ],
   "source": [
    "print(\"Question: Until when can you continue to use your national ID card to enter the UK in certain cases?\")\n",
    "semantic_entropy = calculate_semantic_entropy(responses, prompt)\n",
    "print(f\"Semantic Entropy: {semantic_entropy}\")"
   ]
  },
  {
   "cell_type": "code",
   "execution_count": 15,
   "id": "a43595d3",
   "metadata": {},
   "outputs": [
    {
     "name": "stdout",
     "output_type": "stream",
     "text": [
      "What skill level must the job offer be at for skilled workers under the points-based system?\n",
      "{'R3 (Novice) or above.', 'R3 or above.'}\n",
      "{'RTE (Researcher, Teacher, Engineer) - 70 points.'}\n",
      "{'R70.'}\n",
      "{'R50 or above.'}\n",
      "[0.4, 0.2, 0.2, 0.2]\n",
      "Semantic Entropy: 0.5785580060704263\n"
     ]
    }
   ],
   "source": [
    "print(\"What skill level must the job offer be at for skilled workers under the points-based system?\")\n",
    "\n",
    "# Correct Answer - RQF3 or above (equivalent to A level)\n",
    "prompt_2, responses_2 = generate_llama3_answers(\"What skill level must the job offer be at for skilled workers under the points-based system?\"+\" Answer with the shortest possible answer\")\n",
    "    \n",
    "semantic_entropy = calculate_semantic_entropy(responses_2, prompt_2)\n",
    "print(f\"Semantic Entropy: {semantic_entropy}\")"
   ]
  },
  {
   "cell_type": "code",
   "execution_count": 16,
   "id": "c0a32bb6",
   "metadata": {},
   "outputs": [
    {
     "name": "stdout",
     "output_type": "stream",
     "text": [
      "Can EU, EEA, and Swiss citizens use ePassport gates in the UK?\n",
      "{'Yes.'}\n",
      "[1.0]\n",
      "Semantic Entropy: -0.0\n"
     ]
    }
   ],
   "source": [
    "print(\"Can EU, EEA, and Swiss citizens use ePassport gates in the UK?\")\n",
    "\n",
    "# Correct Answer - Yes, but this will be kept under review.\n",
    "prompt_2, responses_2 = generate_llama3_answers(\"Can EU, EEA, and Swiss citizens use ePassport gates in the UK?\"+\" Answer with the shortest possible answer\")\n",
    "    \n",
    "semantic_entropy = calculate_semantic_entropy(responses_2, prompt_2)\n",
    "print(f\"Semantic Entropy: {semantic_entropy}\")"
   ]
  },
  {
   "cell_type": "code",
   "execution_count": 17,
   "id": "4d622813",
   "metadata": {},
   "outputs": [
    {
     "name": "stdout",
     "output_type": "stream",
     "text": [
      "Which city in the UK has the shard?\n",
      "{'London.'}\n",
      "[1.0]\n",
      "Semantic Entropy: -0.0\n"
     ]
    }
   ],
   "source": [
    "print(\"Which city in the UK has the shard?\")\n",
    "\n",
    "# Correct Answer - RQF3 or above (equivalent to A level)\n",
    "prompt_2, responses_2 = generate_llama3_answers(\"Which city in the Uk has the shard?\"+\" Answer with the shortest possible answer\")\n",
    "    \n",
    "semantic_entropy = calculate_semantic_entropy(responses_2, prompt_2)\n",
    "print(f\"Semantic Entropy: {semantic_entropy}\")"
   ]
  }
 ],
 "metadata": {
  "kernelspec": {
   "display_name": "Python 3 (ipykernel)",
   "language": "python",
   "name": "python3"
  },
  "language_info": {
   "codemirror_mode": {
    "name": "ipython",
    "version": 3
   },
   "file_extension": ".py",
   "mimetype": "text/x-python",
   "name": "python",
   "nbconvert_exporter": "python",
   "pygments_lexer": "ipython3",
   "version": "3.10.13"
  }
 },
 "nbformat": 4,
 "nbformat_minor": 5
}
