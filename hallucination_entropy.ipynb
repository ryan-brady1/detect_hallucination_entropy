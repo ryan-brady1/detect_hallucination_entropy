{
 "cells": [
  {
   "cell_type": "markdown",
   "id": "d325db32",
   "metadata": {},
   "source": [
    "<h1> Detecting hallucinations in large language models using semantic entropy</h1> "
   ]
  },
  {
   "cell_type": "markdown",
   "id": "a24171f0",
   "metadata": {},
   "source": [
    "<p style=\"font-size: 16px\"> <a href=\"https://www.nature.com/articles/s41586-024-07421-0\">Nature - Published Paper</a>.</p>\n"
   ]
  },
  {
   "cell_type": "code",
   "execution_count": 1,
   "id": "c3209af3",
   "metadata": {},
   "outputs": [],
   "source": [
    "import numpy as np\n",
    "import ollama\n",
    "from openai import AzureOpenAI\n",
    "from dotenv import load_dotenv\n",
    "import os"
   ]
  },
  {
   "cell_type": "code",
   "execution_count": 25,
   "id": "10069c3e",
   "metadata": {},
   "outputs": [],
   "source": [
    "client = AzureOpenAI(\n",
    "            azure_endpoint=os.getenv(\"BASE\"),\n",
    "            api_version=os.getenv(\"VERSION\"),\n",
    "            api_key=os.getenv(\"KEY\"), \n",
    "            timeout=15.0, \n",
    "            max_retries=2\n",
    "        )\n",
    "\n",
    "def make_oai_call(prompt):\n",
    "    response = client.chat.completions.create(\n",
    "        model= \"gpt-4o\",\n",
    "        temperature=0.0,\n",
    "        max_tokens=2000,\n",
    "        timeout=25.0, \n",
    "        messages=[\n",
    "            {\"role\": \"user\", \"content\": f\"{prompt}\"},\n",
    "        ]\n",
    "    )\n",
    "    return response.choices[0].message.content\n",
    "\n",
    "def create_oai_logprobs(prompt):\n",
    "    response = client.chat.completions.create(\n",
    "        model= \"gpt-4o\",\n",
    "        temperature=0.0,\n",
    "        max_tokens=2000,\n",
    "        logprobs=True, \n",
    "        messages=[\n",
    "            {\"role\": \"user\", \"content\": f\"{prompt}\"},\n",
    "        ]\n",
    "    )\n",
    "    probs = []\n",
    "    content = response.choices[0].message.content\n",
    "    for x in response.choices[0].logprobs.content:\n",
    "        probs.append(x.logprob)\n",
    "    return np.array(probs), content"
   ]
  },
  {
   "cell_type": "code",
   "execution_count": 4,
   "id": "da38753a",
   "metadata": {},
   "outputs": [],
   "source": [
    "def query_llama3(prompt):\n",
    "    response = ollama.chat(model='llama3', messages=[\n",
    "        {\n",
    "            'role': 'user',\n",
    "            'content': prompt,\n",
    "        },\n",
    "    ])\n",
    "    return response['message']['content']\n",
    "\n",
    "def generate_llama3_answers(prompt):\n",
    "    responses = []\n",
    "    for elem in range(5):\n",
    "        resp = query_llama3(prompt)\n",
    "        responses.append(resp)\n",
    "    return prompt, responses"
   ]
  },
  {
   "cell_type": "code",
   "execution_count": 5,
   "id": "cc654a63",
   "metadata": {},
   "outputs": [],
   "source": [
    "def check_implication_llama(text1, text2, question):\n",
    "    prompt = f\"\"\"We are evaluating answers to the question \"{question}\"\n",
    "    Here are two possible answers:\n",
    "    Possible Answer 1: {text1}\n",
    "    Possible Answer 2: {text2}\n",
    "    Does Possible Answer 1 semantically entail Possible Answer 2? Respond with entailment, contradiction, or neutral.\"\"\"\n",
    "\n",
    "    response_text = query_llama3(prompt).lower()  # Ensure query_model is defined to interact with your Llama model\n",
    "    print(\"-----\")\n",
    "    if 'entailment' in response_text:\n",
    "        return 2\n",
    "    elif 'contradiction' in response_text:\n",
    "        return 0\n",
    "    elif 'neutral' in response_text:\n",
    "        return 1\n",
    "    else:\n",
    "        return 1  # Default to neutral if the response is unclear"
   ]
  },
  {
   "cell_type": "markdown",
   "id": "30cc9799",
   "metadata": {},
   "source": [
    "<h1> Entailment Estimation with OAI -GPT4o </h1>"
   ]
  },
  {
   "cell_type": "markdown",
   "id": "d60dd2d6",
   "metadata": {},
   "source": [
    "<p style=\"font-size: 16px\"> Here we assume that we do not have access to logprobs and doing the discrete semantic entropy which the paper says is 'good enough'. In this case we will use LLama-3 as the paper was prepublished 17 July 2023 which predates Gpt4o and LLama-3 which are now a new SOTA.</p>"
   ]
  },
  {
   "cell_type": "code",
   "execution_count": 6,
   "id": "b2b9b1f9",
   "metadata": {},
   "outputs": [],
   "source": [
    "def check_implication_gpt_4o(text1, text2, question):\n",
    "    prompt = f\"\"\"We are evaluating answers to the question \"{question}\"\n",
    "    Here are two possible answers:\n",
    "    Possible Answer 1: {text1}\n",
    "    Possible Answer 2: {text2}\n",
    "    Does Possible Answer 1 semantically entail Possible Answer 2? Respond with entailment, contradiction, or neutral.\"\"\"\n",
    "\n",
    "    response_text = make_oai_call(prompt).lower()\n",
    "    print(\"-----\")\n",
    "    if 'entailment' in response_text:\n",
    "        return 2\n",
    "    elif 'contradiction' in response_text:\n",
    "        return 0\n",
    "    elif 'neutral' in response_text:\n",
    "        return 1\n",
    "    else:\n",
    "        return 1  # Default to neutral if the response is unclear\n",
    "\n",
    "def bidirectional_entailment_clustering(sequences, question):\n",
    "    # Initialize the set of meanings with the first sequence\n",
    "    C = [{sequences[0]}]\n",
    "    \n",
    "    # Iterate over each sequence starting from the second one\n",
    "    for m in range(1, len(sequences)):\n",
    "        s_m = sequences[m]\n",
    "        added_to_existing_class = False\n",
    "        \n",
    "        # Compare with existing classes\n",
    "        for c in C:\n",
    "            s_c = next(iter(c))  # Get the first sequence in the class\n",
    "            \n",
    "            # Check bi-directional entailment\n",
    "            left = check_implication_gpt_4o(s_c, s_m, question) # change call here to other model.\n",
    "            right = check_implication_gpt_4o(s_m, s_c, question)\n",
    "            \n",
    "            if left == 2 and right == 2:  # both directions entail\n",
    "                c.add(s_m)\n",
    "                added_to_existing_class = True\n",
    "                break\n",
    "        \n",
    "        if not added_to_existing_class:\n",
    "            # If not added to any existing class, create a new class\n",
    "            C.append({s_m})\n",
    "    \n",
    "    return C\n",
    "\n",
    "\n",
    "# Function to calculate discrete semantic entropy\n",
    "def calculate_discrete_semantic_entropy(clusters):\n",
    "    total_responses = sum(len(cluster) for cluster in clusters)\n",
    "    probabilities = [len(cluster) / total_responses for cluster in clusters]\n",
    "    print(probabilities)\n",
    "    entropy = -np.sum(probabilities * np.log10(probabilities)) ## log 10\n",
    "    return entropy\n",
    "\n",
    "def calculate_semantic_entropy(responses, question):\n",
    "    clusters = bidirectional_entailment_clustering(responses, question)\n",
    "    for clus in clusters:\n",
    "        print(clus)\n",
    "    \n",
    "    # Calculate discrete semantic entropy\n",
    "    entropy = calculate_discrete_semantic_entropy(clusters)\n",
    "    return entropy\n"
   ]
  },
  {
   "cell_type": "code",
   "execution_count": 7,
   "id": "f95e86a1",
   "metadata": {},
   "outputs": [
    {
     "name": "stdout",
     "output_type": "stream",
     "text": [
      "-----\n",
      "-----\n",
      "-----\n",
      "-----\n",
      "-----\n",
      "-----\n",
      "-----\n",
      "-----\n",
      "-----\n",
      "-----\n",
      "{'paris.', 'Its Paris', 'Paris.'}\n",
      "{'Rome'}\n",
      "{'New york'}\n",
      "[0.6, 0.2, 0.2]\n",
      "Semantic Entropy: 0.4126972515042213\n"
     ]
    }
   ],
   "source": [
    "# Example usage\n",
    "responses = [\"Paris.\", \"paris.\", \"Its Paris\", \"Rome\", \"New york\"]\n",
    "question = \"Where is the Eiffel Tower?\"\n",
    "\n",
    "semantic_entropy = calculate_semantic_entropy(responses, question)\n",
    "print(f\"Semantic Entropy: {semantic_entropy}\")"
   ]
  },
  {
   "cell_type": "markdown",
   "id": "3cb1b4ee",
   "metadata": {},
   "source": [
    "<h1>Create sets of questions with GPT-4o + Data .</h1>"
   ]
  },
  {
   "cell_type": "markdown",
   "id": "c7329160",
   "metadata": {},
   "source": [
    "<p style=\"font-size: 16px\">Content taken from <a href=\"https://www.gov.uk/guidance/new-immigration-system-what-you-need-to-know\">UK Government Immigration Guide</a>.</p>\n"
   ]
  },
  {
   "cell_type": "code",
   "execution_count": 9,
   "id": "6b4db18f",
   "metadata": {},
   "outputs": [],
   "source": [
    "content_prompt = \"\"\"content goes here\"\"\""
   ]
  },
  {
   "cell_type": "code",
   "execution_count": 12,
   "id": "1fd076b8",
   "metadata": {},
   "outputs": [
    {
     "name": "stdout",
     "output_type": "stream",
     "text": [
      "Here are the factual claims made in the text:\n",
      "\n",
      "1. New immigration routes have opened for applications to work, live, and study in the UK.\n",
      "2. You can apply and pay for your visa online.\n",
      "3. When you apply, you’ll be asked to provide your biometric information.\n",
      "4. For most visas, EU, EEA, and Swiss citizens will provide a digital photo of their face using a smartphone app and will not have to give fingerprints.\n",
      "5. For some routes, EU, EEA, and Swiss citizens will need to go to an overseas visa application centre to have their photo taken.\n",
      "6. Non-EU citizens will continue to submit their fingerprints and a photo at an overseas visa application centre.\n",
      "7. The points-based system includes a route for skilled workers who have a job offer from an approved employer sponsor.\n",
      "8. The job offered to skilled workers needs to be at a required skill level of RQF3 or above (equivalent to A level).\n",
      "9. Skilled workers need to be able to speak English and be paid the relevant salary threshold by their sponsor.\n",
      "10. The general salary threshold for skilled workers is £26,200 or the going rate for the job, whichever is higher.\n",
      "11. Skilled workers earning less than the salary threshold but no less than £20,960 may still be able to apply by ‘trading’ points on specific characteristics against their salary.\n",
      "12. There is no general route for employers to recruit at or near the minimum wage.\n",
      "13. Employers who are not already licensed sponsors and want to sponsor migrants through the skilled worker route should apply now.\n",
      "14. The global talent scheme has been opened up to EU, EEA, and Swiss citizens.\n",
      "15. The global talent scheme allows highly-skilled scientists and researchers to come to the UK without a job offer.\n",
      "16. Student visa routes have been opened up to EU, EEA, and Swiss citizens.\n",
      "17. To apply for a student visa, you need to have been offered a place on a course, can speak, read, write, and understand English, and have enough money to support yourself and pay for your course.\n",
      "18. A new graduate visa is available to international students who have completed a degree in the UK.\n",
      "19. EU, EEA, and Swiss citizens and other non-visa nationals do not require a visa to enter the UK when visiting for up to 6 months.\n",
      "20. All migrants looking to enter the UK for work or study will need to apply for entry clearance in advance.\n",
      "21. You must apply for a Marriage Visitor visa if you want to visit the UK to get married or register a civil partnership.\n",
      "22. EU, EEA, and Swiss citizens who were living in the UK by 31 December 2020 may be able to apply to the free EU Settlement Scheme instead of applying for a visa.\n",
      "23. The deadline to apply to the EU Settlement Scheme was 30 June 2021, but you can still apply if you can show reasonable grounds for your delay in applying.\n",
      "24. You can only apply to the EU Settlement Scheme from outside the UK if you have a valid passport or national identity card with a biometric chip.\n",
      "25. Citizens of Australia, Canada, Japan, New Zealand, the United States of America, Singapore, and South Korea with a biometric chip in their passports can continue to use ePassport gates to pass through the UK border on arrival.\n",
      "26. EU, EEA, and Swiss citizens can also use ePassport gates (this will be kept under review).\n",
      "27. From 1 October 2021, you will not be able to use an EU, EEA, or Swiss national ID card to enter the UK unless you meet specific conditions.\n",
      "28. EU, EEA, and Swiss citizens who meet specific conditions can continue to use their national ID card to enter the UK until at least 31 December 2025.\n",
      "29. EU, EEA, and Swiss citizens should use the online service to view and prove their immigration status.\n",
      "30. Guidance is available for employers on carrying out right to work checks on EU citizens and their family members in the UK.\n",
      "31. Non-EU citizens can continue to use a physical document to prove their immigration status.\n",
      "32. Non-EU citizens with a valid, current Biometric Residence Permit, Biometric Residence Card, or status granted under the EU Settlement Scheme can also prove their rights using an online service.\n",
      "33. Guidance is available for employers on how to carry out a physical document check or online check for non-EU citizens.\n"
     ]
    }
   ],
   "source": [
    "resp = make_oai_call(f\"\"\"List the factual claims made in the following text\n",
    "              {content_prompt}\n",
    "              \"\"\")\n",
    "print(resp)"
   ]
  },
  {
   "cell_type": "code",
   "execution_count": 26,
   "id": "760df232",
   "metadata": {},
   "outputs": [
    {
     "name": "stdout",
     "output_type": "stream",
     "text": [
      "1. What new opportunities have been made available for people to work, live, and study in the UK?\n",
      "   - New immigration routes have opened.\n",
      "\n",
      "2. How can you apply and pay for a UK visa?\n",
      "   - Online.\n",
      "\n",
      "3. What information will you be asked to provide when applying for a UK visa?\n",
      "   - Biometric information.\n",
      "\n",
      "4. How do most EU, EEA, and Swiss citizens provide their biometric information for a UK visa?\n",
      "   - By providing a digital photo of their face using a smartphone app.\n",
      "\n",
      "5. Where do some EU, EEA, and Swiss citizens need to go to have their photo taken for a UK visa?\n",
      "   - An overseas visa application centre.\n",
      "\n",
      "6. How do non-EU citizens submit their biometric information for a UK visa?\n",
      "   - By submitting their fingerprints and a photo at an overseas visa application centre.\n",
      "\n",
      "7. What does the points-based system for UK immigration include for skilled workers?\n",
      "   - A route for skilled workers with a job offer from an approved employer sponsor.\n",
      "\n",
      "8. What is the required skill level for jobs offered to skilled workers under the UK points-based system?\n",
      "   - RQF3 or above (equivalent to A level).\n",
      "\n",
      "9. What language proficiency and salary requirements must skilled workers meet under the UK points-based system?\n",
      "   - They need to speak English and be paid the relevant salary threshold by their sponsor.\n",
      "\n",
      "10. What is the general salary threshold for skilled workers under the UK points-based system?\n",
      "    - £26,200 or the going rate for the job, whichever is higher.\n",
      "\n",
      "11. Can skilled workers earning less than the salary threshold still apply for a UK visa?\n",
      "    - Yes, if they earn no less than £20,960 and can trade points on specific characteristics against their salary.\n",
      "\n",
      "12. Is there a general route for employers to recruit at or near the minimum wage in the UK?\n",
      "    - No.\n",
      "\n",
      "13. What should employers who want to sponsor migrants through the skilled worker route do if they are not already licensed sponsors?\n",
      "    - Apply now.\n",
      "\n",
      "14. Who has the global talent scheme been opened up to?\n",
      "    - EU, EEA, and Swiss citizens.\n",
      "\n",
      "15. What does the global talent scheme allow highly-skilled scientists and researchers to do?\n",
      "    - Come to the UK without a job offer.\n",
      "\n",
      "16. Who can now apply for student visa routes in the UK?\n",
      "    - EU, EEA, and Swiss citizens.\n",
      "\n",
      "17. What are the requirements to apply for a student visa in the UK?\n",
      "    - An offer of a place on a course, English language proficiency, and enough money to support oneself and pay for the course.\n",
      "\n",
      "18. Who is eligible for the new graduate visa in the UK?\n",
      "    - International students who have completed a degree in the UK.\n",
      "\n",
      "19. Do EU, EEA, and Swiss citizens and other non-visa nationals need a visa to visit the UK for up to 6 months?\n",
      "    - No.\n",
      "\n",
      "20. What must all migrants looking to enter the UK for work or study do?\n",
      "    - Apply for entry clearance in advance.\n",
      "\n",
      "21. What type of visa must you apply for if you want to visit the UK to get married or register a civil partnership?\n",
      "    - Marriage Visitor visa.\n",
      "\n",
      "22. Who may be able to apply to the free EU Settlement Scheme instead of applying for a visa?\n",
      "    - EU, EEA, and Swiss citizens who were living in the UK by 31 December 2020.\n",
      "\n",
      "23. What was the deadline to apply to the EU Settlement Scheme, and can you still apply?\n",
      "    - The deadline was 30 June 2021, but you can still apply if you can show reasonable grounds for your delay.\n",
      "\n",
      "24. What do you need to apply to the EU Settlement Scheme from outside the UK?\n",
      "    - A valid passport or national identity card with a biometric chip.\n",
      "\n",
      "25. Which citizens can continue to use ePassport gates to pass through the UK border on arrival?\n",
      "    - Citizens of Australia, Canada, Japan, New Zealand, the United States of America, Singapore, and South Korea with a biometric chip in their passports.\n",
      "\n",
      "26. Can EU, EEA, and Swiss citizens use ePassport gates in the UK?\n",
      "    - Yes, but this will be kept under review.\n",
      "\n",
      "27. From 1 October 2021, what will you need to enter the UK if you are an EU, EEA, or Swiss citizen?\n",
      "    - You will not be able to use a national ID card unless you meet specific conditions.\n",
      "\n",
      "28. Until when can EU, EEA, and Swiss citizens who meet specific conditions continue to use their national ID card to enter the UK?\n",
      "    - Until at least 31 December 2025.\n",
      "\n",
      "29. How should EU, EEA, and Swiss citizens view and prove their immigration status?\n",
      "    - Using the online service.\n",
      "\n",
      "30. What guidance is available for employers regarding right to work checks on EU citizens and their family members in the UK?\n",
      "    - Guidance on carrying out right to work checks.\n",
      "\n",
      "31. How can non-EU citizens prove their immigration status?\n",
      "    - Using a physical document.\n",
      "\n",
      "32. How can non-EU citizens with a valid Biometric Residence Permit, Biometric Residence Card, or status granted under the EU Settlement Scheme prove their rights?\n",
      "    - Using an online service.\n",
      "\n",
      "33. What guidance is available for employers regarding checks for non-EU citizens?\n",
      "    - Guidance on how to carry out a physical document check or online check.\n"
     ]
    }
   ],
   "source": [
    "resp2 = make_oai_call(f\"\"\"Create me some self encapsulating questions with shorts answers given the following content. Do not reference the content in the question itself it needs to be a standalone question that is answerable without the context.\n",
    "              \n",
    "              {resp}\n",
    "              \"\"\")\n",
    "print(resp2)"
   ]
  },
  {
   "cell_type": "code",
   "execution_count": 27,
   "id": "42c53921",
   "metadata": {},
   "outputs": [],
   "source": [
    "# correect answer - Until at least 31 December 2025.\n",
    "prompt, responses = generate_llama3_answers(\"Until when can you continue to use your national ID card to enter the UK in certain cases?\"+\" Answer with the shortest possible answer\")"
   ]
  },
  {
   "cell_type": "code",
   "execution_count": 28,
   "id": "b95fc309",
   "metadata": {},
   "outputs": [
    {
     "name": "stdout",
     "output_type": "stream",
     "text": [
      "Question: Until when can you continue to use your national ID card to enter the UK in certain cases?\n",
      "-----\n",
      "-----\n",
      "-----\n",
      "-----\n",
      "-----\n",
      "-----\n",
      "-----\n",
      "-----\n",
      "-----\n",
      "-----\n",
      "-----\n",
      "-----\n",
      "-----\n",
      "-----\n",
      "{'Up to 31 December 2023.'}\n",
      "{'Until December 31, 2025.', 'Until 31 December 2025.'}\n",
      "{'Until 31 October 2021.'}\n",
      "[0.25, 0.5, 0.25]\n",
      "Semantic Entropy: 0.45154499349597177\n"
     ]
    }
   ],
   "source": [
    "print(\"Question: Until when can you continue to use your national ID card to enter the UK in certain cases?\")\n",
    "semantic_entropy = calculate_semantic_entropy(responses, prompt)\n",
    "print(f\"Semantic Entropy: {semantic_entropy}\")"
   ]
  },
  {
   "cell_type": "code",
   "execution_count": 29,
   "id": "fd4f5dfd",
   "metadata": {},
   "outputs": [
    {
     "name": "stdout",
     "output_type": "stream",
     "text": [
      "What skill level must the job offer be at for skilled workers under the points-based system?\n",
      "-----\n",
      "-----\n",
      "-----\n",
      "-----\n",
      "-----\n",
      "-----\n",
      "-----\n",
      "-----\n",
      "-----\n",
      "-----\n",
      "-----\n",
      "-----\n",
      "-----\n",
      "-----\n",
      "-----\n",
      "-----\n",
      "-----\n",
      "-----\n",
      "-----\n",
      "-----\n",
      "{'Job offer must be at ROLLING LEVEL 3 (R3) or above.'}\n",
      "{'R70-80 (undergraduate) or R85-100 (postgraduate).'}\n",
      "{'R50.'}\n",
      "{'60 points.'}\n",
      "[0.25, 0.25, 0.25, 0.25]\n",
      "Semantic Entropy: 0.6020599913279624\n"
     ]
    }
   ],
   "source": [
    "print(\"What skill level must the job offer be at for skilled workers under the points-based system?\")\n",
    "\n",
    "# Correct Answer - RQF3 or above (equivalent to A level)\n",
    "prompt_2, responses_2 = generate_llama3_answers(\"What skill level must the job offer be at for skilled workers under the points-based system?\"+\" Answer with the shortest possible answer\")\n",
    "    \n",
    "semantic_entropy = calculate_semantic_entropy(responses_2, prompt_2)\n",
    "print(f\"Semantic Entropy: {semantic_entropy}\")"
   ]
  },
  {
   "cell_type": "code",
   "execution_count": 31,
   "id": "10340b47",
   "metadata": {},
   "outputs": [
    {
     "name": "stdout",
     "output_type": "stream",
     "text": [
      "Can EU, EEA, and Swiss citizens use ePassport gates in the UK?\n",
      "-----\n",
      "-----\n",
      "-----\n",
      "-----\n",
      "-----\n",
      "-----\n",
      "-----\n",
      "-----\n",
      "{'Yes.'}\n",
      "[1.0]\n",
      "Semantic Entropy: -0.0\n"
     ]
    }
   ],
   "source": [
    "print(\"Can EU, EEA, and Swiss citizens use ePassport gates in the UK?\")\n",
    "\n",
    "# Correct Answer - Yes, but this will be kept under review.\n",
    "prompt_2, responses_2 = generate_llama3_answers(\"Can EU, EEA, and Swiss citizens use ePassport gates in the UK?\"+\" Answer with the shortest possible answer\")\n",
    "    \n",
    "semantic_entropy = calculate_semantic_entropy(responses_2, prompt_2)\n",
    "print(f\"Semantic Entropy: {semantic_entropy}\")"
   ]
  },
  {
   "cell_type": "code",
   "execution_count": 32,
   "id": "0b44bf6a",
   "metadata": {},
   "outputs": [
    {
     "name": "stdout",
     "output_type": "stream",
     "text": [
      "Which city in the UK has the shard?\n",
      "-----\n",
      "-----\n",
      "-----\n",
      "-----\n",
      "-----\n",
      "-----\n",
      "-----\n",
      "-----\n",
      "{'London.'}\n",
      "[1.0]\n",
      "Semantic Entropy: -0.0\n"
     ]
    }
   ],
   "source": [
    "print(\"Which city in the UK has the shard?\")\n",
    "\n",
    "# Correct Answer - RQF3 or above (equivalent to A level)\n",
    "prompt_2, responses_2 = generate_llama3_answers(\"Which city in the Uk has the shard?\"+\" Answer with the shortest possible answer\")\n",
    "    \n",
    "semantic_entropy = calculate_semantic_entropy(responses_2, prompt_2)\n",
    "print(f\"Semantic Entropy: {semantic_entropy}\")"
   ]
  }
 ],
 "metadata": {
  "kernelspec": {
   "display_name": "Python 3 (ipykernel)",
   "language": "python",
   "name": "python3"
  },
  "language_info": {
   "codemirror_mode": {
    "name": "ipython",
    "version": 3
   },
   "file_extension": ".py",
   "mimetype": "text/x-python",
   "name": "python",
   "nbconvert_exporter": "python",
   "pygments_lexer": "ipython3",
   "version": "3.10.13"
  }
 },
 "nbformat": 4,
 "nbformat_minor": 5
}
